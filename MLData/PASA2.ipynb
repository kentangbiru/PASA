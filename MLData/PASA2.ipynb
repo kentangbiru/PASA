{
 "cells": [
  {
   "cell_type": "code",
   "execution_count": 31,
   "metadata": {
    "id": "z_gPibogYIS4"
   },
   "outputs": [],
   "source": [
    "# Cell 1 - Import Libraries\n",
    "import tensorflow as tf\n",
    "import numpy as np\n",
    "import pandas as pd\n",
    "from tensorflow.keras.preprocessing.text import Tokenizer\n",
    "from tensorflow.keras.preprocessing.sequence import pad_sequences\n",
    "from sklearn.model_selection import train_test_split\n",
    "from sklearn.preprocessing import LabelEncoder\n",
    "import matplotlib.pyplot as plt\n",
    "import seaborn as sns\n",
    "import os\n",
    "import random\n",
    "import pandas as pd\n",
    "import numpy as np"
   ]
  },
  {
   "cell_type": "code",
   "execution_count": 32,
   "metadata": {
    "colab": {
     "base_uri": "https://localhost:8080/"
    },
    "id": "k0oxwQsszw5V",
    "outputId": "aea0fded-3627-4daa-d643-d7fddd0fd704"
   },
   "outputs": [
    {
     "name": "stdout",
     "output_type": "stream",
     "text": [
      "  password  length  has_uppercase  has_lowercase  has_digits  has_symbols  \\\n",
      "0  fgbmgix       7              0              1           0            0   \n",
      "1  Z@IiVo^       7              1              1           0            1   \n",
      "2   0)K2&0       6              1              0           1            1   \n",
      "3   TKC@Ql       6              1              1           0            1   \n",
      "4  F1cKA(V       7              1              1           1            1   \n",
      "\n",
      "     entropy  strength_label  time_to_crack  \n",
      "0  32.903078               0    3379.594825  \n",
      "1  44.746222               0    5038.605800  \n",
      "2  36.524777               0    1109.029864  \n",
      "3  38.353905               0     880.107879  \n",
      "4  45.882122               0    6473.007968  \n"
     ]
    }
   ],
   "source": [
    "# Fungsi untuk menghasilkan password acak\n",
    "def generate_password(length):\n",
    "    chars = \"abcdefghijklmnopqrstuvwxyzABCDEFGHIJKLMNOPQRSTUVWXYZ0123456789!@#$%^&*()\"\n",
    "    return ''.join(random.choice(chars) for _ in range(length))\n",
    "\n",
    "# Fungsi untuk menghitung entropi berdasarkan variasi karakter\n",
    "def calculate_entropy(password):\n",
    "    char_space = 0\n",
    "    if any(c.islower() for c in password):\n",
    "        char_space += 26  # lowercase letters\n",
    "    if any(c.isupper() for c in password):\n",
    "        char_space += 26  # uppercase letters\n",
    "    if any(c.isdigit() for c in password):\n",
    "        char_space += 10  # digits\n",
    "    if any(not c.isalnum() for c in password):\n",
    "        char_space += 32  # symbols\n",
    "    entropy = len(password) * np.log2(char_space)\n",
    "    return entropy\n",
    "\n",
    "# Fungsi untuk menentukan waktu peretasan (estimasi sederhana)\n",
    "def estimate_time_to_crack(strength_label):\n",
    "    if strength_label == 2:\n",
    "        return random.uniform(1e6, 1e9)  # sangat kuat, peretas butuh waktu lama\n",
    "    elif strength_label == 1:\n",
    "        return random.uniform(1e4, 1e6)  # sedang\n",
    "    else:\n",
    "        return random.uniform(1e2, 1e4)  # lemah\n",
    "\n",
    "# Fungsi untuk menghasilkan password dengan strength yang diinginkan\n",
    "def generate_password_with_strength(target_strength):\n",
    "    attempts = 0\n",
    "    while attempts < 1000:  # Batasan percobaan untuk menghindari infinite loop\n",
    "        attempts += 1\n",
    "        length = random.randint(6, 16)\n",
    "        password = generate_password(length)\n",
    "\n",
    "        # Tentukan strength label\n",
    "        has_uppercase = any(c.isupper() for c in password)\n",
    "        has_lowercase = any(c.islower() for c in password)\n",
    "        has_digits = any(c.isdigit() for c in password)\n",
    "        has_symbols = any(not c.isalnum() for c in password)\n",
    "\n",
    "        # Syarat sederhana untuk kekuatan password\n",
    "        if target_strength == 2 and length >= 12 and has_uppercase and has_lowercase and has_digits and has_symbols:\n",
    "            return password\n",
    "        elif target_strength == 1 and length >= 8 and ((has_uppercase and has_lowercase) or (has_digits and has_symbols)):\n",
    "            return password\n",
    "        elif target_strength == 0 and length < 8:\n",
    "            return password\n",
    "\n",
    "    return password  # Kembali jika mencapai batas percobaan\n",
    "\n",
    "# Membuat dataset sintetik dengan jumlah seimbang\n",
    "samples_per_strength = 50000\n",
    "data = []\n",
    "\n",
    "for strength in [0, 1, 2]:  # 0: lemah, 1: sedang, 2: kuat\n",
    "    for _ in range(samples_per_strength):\n",
    "        password = generate_password_with_strength(strength)\n",
    "        entropy = calculate_entropy(password)\n",
    "        time_to_crack = estimate_time_to_crack(strength)\n",
    "\n",
    "        data.append({\n",
    "            \"password\": password,\n",
    "            \"length\": len(password),\n",
    "            \"has_uppercase\": int(any(c.isupper() for c in password)),\n",
    "            \"has_lowercase\": int(any(c.islower() for c in password)),\n",
    "            \"has_digits\": int(any(c.isdigit() for c in password)),\n",
    "            \"has_symbols\": int(any(not c.isalnum() for c in password)),\n",
    "            \"entropy\": entropy,\n",
    "            \"strength_label\": strength,\n",
    "            \"time_to_crack\": time_to_crack\n",
    "        })\n",
    "\n",
    "# Konversi ke DataFrame\n",
    "df = pd.DataFrame(data)\n",
    "print(df.head())\n",
    "\n",
    "# Simpan ke file CSV jika ingin\n",
    "df.to_csv(\"synthetic_dataset.csv\", index=False)"
   ]
  },
  {
   "cell_type": "code",
   "execution_count": 33,
   "metadata": {
    "id": "UhzvtKJNVLml"
   },
   "outputs": [],
   "source": [
    "df = pd.read_csv(\"synthetic_dataset.csv\")"
   ]
  },
  {
   "cell_type": "code",
   "execution_count": 34,
   "metadata": {
    "colab": {
     "base_uri": "https://localhost:8080/"
    },
    "id": "Vrm-AUjOVoCC",
    "outputId": "04208f4a-a247-4e86-939c-a37ff54d77fb"
   },
   "outputs": [
    {
     "name": "stdout",
     "output_type": "stream",
     "text": [
      "strength_label\n",
      "0    50000\n",
      "1    50000\n",
      "2    50000\n",
      "Name: count, dtype: int64\n"
     ]
    }
   ],
   "source": [
    "counts = df['strength_label'].value_counts()\n",
    "print(counts)"
   ]
  },
  {
   "cell_type": "code",
   "execution_count": 35,
   "metadata": {
    "id": "4Lmuh0Xy1ZYk"
   },
   "outputs": [],
   "source": [
    "df = pd.read_csv(\"PASAdataset.csv\")"
   ]
  },
  {
   "cell_type": "code",
   "execution_count": 36,
   "metadata": {
    "id": "XHyf3VAI1MEi"
   },
   "outputs": [],
   "source": [
    "# untuk mempertahankan kolom yang diinginkan\n",
    "kolom_diinginkan = ['Password', 'Strength_Level']\n",
    "df = df[kolom_diinginkan]\n"
   ]
  },
  {
   "cell_type": "code",
   "execution_count": 37,
   "metadata": {
    "id": "ThwT-eUr8aJ9"
   },
   "outputs": [],
   "source": [
    "df.rename(columns={\n",
    "    'Strength_Level': 'strength'\n",
    "}, inplace=True)"
   ]
  },
  {
   "cell_type": "code",
   "execution_count": 38,
   "metadata": {
    "id": "KGW3bR2j7uNo"
   },
   "outputs": [],
   "source": [
    "df.to_csv('PASAdatasetnew.csv', index=False)"
   ]
  },
  {
   "cell_type": "code",
   "execution_count": 55,
   "metadata": {
    "colab": {
     "base_uri": "https://localhost:8080/"
    },
    "id": "NtxApQ7eyBt8",
    "outputId": "238f4069-956c-408c-f598-380218c305cf"
   },
   "outputs": [
    {
     "name": "stdout",
     "output_type": "stream",
     "text": [
      "Total data loaded: 29777\n",
      "\n",
      "Label distribution:\n",
      "strength\n",
      "1             10002\n",
      "2              9485\n",
      "3              9337\n",
      "4                 4\n",
      "N                 3\n",
      "              ...  \n",
      "Acoela)           1\n",
      "Qfisse            1\n",
      "_-V=)e]           1\n",
      "J(/iTJqL          1\n",
      "R/Il!HDe<E        1\n",
      "Name: count, Length: 615, dtype: int64\n",
      "clean data\n",
      "strength\n",
      "1    10002\n",
      "2     9485\n",
      "3     9337\n",
      "Name: count, dtype: int64\n"
     ]
    }
   ],
   "source": [
    "# Cell 2 - Load Data\n",
    "def load_data(file_path):\n",
    "    \"\"\"Load dataset from CSV file\"\"\"\n",
    "    try:\n",
    "        df = pd.read_csv(file_path)\n",
    "        required_columns = ['Password', 'strength']\n",
    "        if not all(col in df.columns for col in required_columns):\n",
    "            raise ValueError(f\"File must contain columns: {required_columns}\")\n",
    "\n",
    "        print(f\"Total data loaded: {len(df)}\")\n",
    "        print(\"\\nLabel distribution:\")\n",
    "        print(df['strength'].value_counts())\n",
    "\n",
    "        return df\n",
    "    except Exception as e:\n",
    "        raise Exception(f\"Error loading data: {str(e)}\")\n",
    "\n",
    "file_path = \"PASAdatasetnew.csv\"\n",
    "df = load_data(file_path)\n",
    "\n",
    "print(\"clean data\")\n",
    "def clean_data(df):\n",
    "    # Tentukan nilai untuk kolom 'strength'\n",
    "    valid_strengths = [1, 2, 3]\n",
    "    \n",
    "    #hapus baris yang tidak valid\n",
    "    df['strength'] = pd.to_numeric(df['strength'], errors='coerce')  # Ganti yang tidak valid jadi NaN\n",
    "    df = df.dropna(subset=['strength'])  # Hapus baris yang memiliki NaN di kolom 'strength'\n",
    "    \n",
    "    # Hapus nilai yang tidak valid\n",
    "    df = df[df['strength'].isin(valid_strengths)]\n",
    "    \n",
    "    # Ubah kolom 'strength' menjadi integer\n",
    "    df['strength'] = df['strength'].astype(int)\n",
    "    \n",
    "    return df\n",
    "\n",
    "df = clean_data(df)\n",
    "print(df['strength'].value_counts())"
   ]
  },
  {
   "cell_type": "code",
   "execution_count": 56,
   "metadata": {
    "id": "x9-MjVZ5oIkg"
   },
   "outputs": [],
   "source": [
    "df_copy = df.copy()\n"
   ]
  },
  {
   "cell_type": "code",
   "execution_count": 62,
   "metadata": {
    "colab": {
     "base_uri": "https://localhost:8080/"
    },
    "id": "mJFhP4gV77xE",
    "outputId": "a72559d7-9433-4f93-c47f-1bb949c1b6ef"
   },
   "outputs": [
    {
     "name": "stdout",
     "output_type": "stream",
     "text": [
      "Extracting features from password...\n"
     ]
    }
   ],
   "source": [
    "# Cell 3 - Preprocess Data\n",
    "label_encoder = LabelEncoder()\n",
    "\n",
    "def preprocess_data(df):\n",
    "    \"\"\"Clean and prepare data\"\"\"\n",
    "    df = df.copy()  # Salinan untuk menghindari konflik dengan DataFrame asli\n",
    "    df['Password'] = df['Password'].astype(str)\n",
    "    df = df.dropna(subset=['Password', 'strength'])  # Make sure no NaN in critical columns\n",
    "\n",
    "    # Encode labels\n",
    "    df['strength_encoded'] = label_encoder.fit_transform(df['strength'])\n",
    "\n",
    "    # Extract features\n",
    "    print(\"Extracting features from password...\")\n",
    "    df['length'] = df['Password'].apply(len)\n",
    "    df['uppercase'] = df['Password'].apply(lambda x: sum(c.isupper() for c in x))\n",
    "    df['lowercase'] = df['Password'].apply(lambda x: sum(c.islower() for c in x))\n",
    "    df['digits'] = df['Password'].apply(lambda x: sum(c.isdigit() for c in x))\n",
    "    df['special'] = df['Password'].apply(lambda x: sum(not c.isalnum() for c in x))\n",
    "\n",
    "    features = df[['length', 'uppercase', 'lowercase', 'digits', 'special']].values\n",
    "\n",
    "    return df, features\n",
    "\n",
    "\n",
    "df_copy = df.copy()\n",
    "df_processed, features = preprocess_data(df_copy)\n",
    "\n"
   ]
  },
  {
   "cell_type": "code",
   "execution_count": 59,
   "metadata": {
    "colab": {
     "base_uri": "https://localhost:8080/"
    },
    "id": "9TFENT0-9zk1",
    "outputId": "5a0deb34-f091-4e00-e5b4-575c2e5e72f2"
   },
   "outputs": [
    {
     "name": "stdout",
     "output_type": "stream",
     "text": [
      "Vocabulary size: 61\n",
      "Max sequence length: 15\n"
     ]
    }
   ],
   "source": [
    "# Cell 4 - Tokenize Data\n",
    "tokenizer = Tokenizer(char_level=True)\n",
    "\n",
    "def tokenize_data(passwords, max_length=20):\n",
    "    \"\"\"Convert passwords to sequences\"\"\"\n",
    "    tokenizer.fit_on_texts(passwords)\n",
    "\n",
    "    sequences = tokenizer.texts_to_sequences(passwords)\n",
    "\n",
    "    max_length = min(max_length, max(len(seq) for seq in sequences))\n",
    "    padded_sequences = pad_sequences(sequences, maxlen=max_length)\n",
    "\n",
    "    print(f\"Vocabulary size: {len(tokenizer.word_index)}\")\n",
    "    print(f\"Max sequence length: {max_length}\")\n",
    "\n",
    "    return padded_sequences, max_length\n",
    "\n",
    "sequences, max_length = tokenize_data(df['Password'])\n"
   ]
  },
  {
   "cell_type": "code",
   "execution_count": 72,
   "metadata": {
    "id": "nEGLlOlf92Xy"
   },
   "outputs": [],
   "source": [
    "# Cell 5 - Split Data\n",
    "X_seq_train, X_seq_test, X_feat_train, X_feat_test, y_train, y_test = train_test_split(\n",
    "    sequences, features, df['strength_encoded'], test_size=0.2, random_state=42\n",
    ")\n",
    "\n",
    "# training (80%) and validation (20%)\n",
    "X_seq_train, X_seq_val, X_feat_train, X_feat_val, y_train, y_val = train_test_split(\n",
    "    X_seq_train, X_feat_train, y_train, test_size=0.2, random_state=42\n",
    ")"
   ]
  },
  {
   "cell_type": "code",
   "execution_count": 73,
   "metadata": {
    "id": "_OpntTmB98rC"
   },
   "outputs": [],
   "source": [
    "# Cell 6 - Create Model\n",
    "def create_model(vocab_size, max_length):\n",
    "    \"\"\"Create model architecture\"\"\"\n",
    "    sequence_input = tf.keras.Input(shape=(max_length,))\n",
    "    feature_input = tf.keras.Input(shape=(5,))\n",
    "\n",
    "    #layers\n",
    "    x1 = tf.keras.layers.Embedding(vocab_size + 1, 32)(sequence_input)\n",
    "    x1 = tf.keras.layers.Conv1D(64, 3, activation='relu')(x1)\n",
    "    x1 = tf.keras.layers.LSTM(32, return_sequences=True)(x1)\n",
    "    x1 = tf.keras.layers.GlobalMaxPooling1D()(x1)\n",
    "\n",
    "    # Concatenate sequence and feature inputs\n",
    "    concatenated = tf.keras.layers.Concatenate()([x1, feature_input])\n",
    "\n",
    "    # Fully connected layers\n",
    "    x = tf.keras.layers.Dense(128, activation='relu')(concatenated)\n",
    "    x = tf.keras.layers.Dropout(0.4)(x)\n",
    "    x = tf.keras.layers.Dense(64, activation='relu')(x)\n",
    "    x = tf.keras.layers.Dense(32, activation='relu')(x)\n",
    "\n",
    "    # Output layer\n",
    "    output = tf.keras.layers.Dense(len(set(df['strength_encoded'])), activation='softmax')(x)\n",
    "\n",
    "    model = tf.keras.Model(inputs=[sequence_input, feature_input], outputs=output)\n",
    "\n",
    "    return model\n",
    "\n",
    "model = create_model(len(tokenizer.word_index), max_length)"
   ]
  },
  {
   "cell_type": "code",
   "execution_count": 74,
   "metadata": {
    "colab": {
     "base_uri": "https://localhost:8080/",
     "height": 594
    },
    "id": "iOCnv0kn-FUN",
    "outputId": "31412115-f3cf-4b8c-dff4-9a34ab0e3f00"
   },
   "outputs": [
    {
     "data": {
      "text/html": [
       "<pre style=\"white-space:pre;overflow-x:auto;line-height:normal;font-family:Menlo,'DejaVu Sans Mono',consolas,'Courier New',monospace\"><span style=\"font-weight: bold\">Model: \"functional_1\"</span>\n",
       "</pre>\n"
      ],
      "text/plain": [
       "\u001b[1mModel: \"functional_1\"\u001b[0m\n"
      ]
     },
     "metadata": {},
     "output_type": "display_data"
    },
    {
     "data": {
      "text/html": [
       "<pre style=\"white-space:pre;overflow-x:auto;line-height:normal;font-family:Menlo,'DejaVu Sans Mono',consolas,'Courier New',monospace\">┏━━━━━━━━━━━━━━━━━━━━━━━━━━━━━━━┳━━━━━━━━━━━━━━━━━━━━━━━━━━━┳━━━━━━━━━━━━━━━━━┳━━━━━━━━━━━━━━━━━━━━━━━━━━━━┓\n",
       "┃<span style=\"font-weight: bold\"> Layer (type)                  </span>┃<span style=\"font-weight: bold\"> Output Shape              </span>┃<span style=\"font-weight: bold\">         Param # </span>┃<span style=\"font-weight: bold\"> Connected to               </span>┃\n",
       "┡━━━━━━━━━━━━━━━━━━━━━━━━━━━━━━━╇━━━━━━━━━━━━━━━━━━━━━━━━━━━╇━━━━━━━━━━━━━━━━━╇━━━━━━━━━━━━━━━━━━━━━━━━━━━━┩\n",
       "│ input_layer_2 (<span style=\"color: #0087ff; text-decoration-color: #0087ff\">InputLayer</span>)    │ (<span style=\"color: #00d7ff; text-decoration-color: #00d7ff\">None</span>, <span style=\"color: #00af00; text-decoration-color: #00af00\">15</span>)                │               <span style=\"color: #00af00; text-decoration-color: #00af00\">0</span> │ -                          │\n",
       "├───────────────────────────────┼───────────────────────────┼─────────────────┼────────────────────────────┤\n",
       "│ embedding_1 (<span style=\"color: #0087ff; text-decoration-color: #0087ff\">Embedding</span>)       │ (<span style=\"color: #00d7ff; text-decoration-color: #00d7ff\">None</span>, <span style=\"color: #00af00; text-decoration-color: #00af00\">15</span>, <span style=\"color: #00af00; text-decoration-color: #00af00\">32</span>)            │           <span style=\"color: #00af00; text-decoration-color: #00af00\">1,984</span> │ input_layer_2[<span style=\"color: #00af00; text-decoration-color: #00af00\">0</span>][<span style=\"color: #00af00; text-decoration-color: #00af00\">0</span>]        │\n",
       "├───────────────────────────────┼───────────────────────────┼─────────────────┼────────────────────────────┤\n",
       "│ conv1d_1 (<span style=\"color: #0087ff; text-decoration-color: #0087ff\">Conv1D</span>)             │ (<span style=\"color: #00d7ff; text-decoration-color: #00d7ff\">None</span>, <span style=\"color: #00af00; text-decoration-color: #00af00\">13</span>, <span style=\"color: #00af00; text-decoration-color: #00af00\">64</span>)            │           <span style=\"color: #00af00; text-decoration-color: #00af00\">6,208</span> │ embedding_1[<span style=\"color: #00af00; text-decoration-color: #00af00\">0</span>][<span style=\"color: #00af00; text-decoration-color: #00af00\">0</span>]          │\n",
       "├───────────────────────────────┼───────────────────────────┼─────────────────┼────────────────────────────┤\n",
       "│ lstm_1 (<span style=\"color: #0087ff; text-decoration-color: #0087ff\">LSTM</span>)                 │ (<span style=\"color: #00d7ff; text-decoration-color: #00d7ff\">None</span>, <span style=\"color: #00af00; text-decoration-color: #00af00\">13</span>, <span style=\"color: #00af00; text-decoration-color: #00af00\">32</span>)            │          <span style=\"color: #00af00; text-decoration-color: #00af00\">12,416</span> │ conv1d_1[<span style=\"color: #00af00; text-decoration-color: #00af00\">0</span>][<span style=\"color: #00af00; text-decoration-color: #00af00\">0</span>]             │\n",
       "├───────────────────────────────┼───────────────────────────┼─────────────────┼────────────────────────────┤\n",
       "│ global_max_pooling1d_1        │ (<span style=\"color: #00d7ff; text-decoration-color: #00d7ff\">None</span>, <span style=\"color: #00af00; text-decoration-color: #00af00\">32</span>)                │               <span style=\"color: #00af00; text-decoration-color: #00af00\">0</span> │ lstm_1[<span style=\"color: #00af00; text-decoration-color: #00af00\">0</span>][<span style=\"color: #00af00; text-decoration-color: #00af00\">0</span>]               │\n",
       "│ (<span style=\"color: #0087ff; text-decoration-color: #0087ff\">GlobalMaxPooling1D</span>)          │                           │                 │                            │\n",
       "├───────────────────────────────┼───────────────────────────┼─────────────────┼────────────────────────────┤\n",
       "│ input_layer_3 (<span style=\"color: #0087ff; text-decoration-color: #0087ff\">InputLayer</span>)    │ (<span style=\"color: #00d7ff; text-decoration-color: #00d7ff\">None</span>, <span style=\"color: #00af00; text-decoration-color: #00af00\">5</span>)                 │               <span style=\"color: #00af00; text-decoration-color: #00af00\">0</span> │ -                          │\n",
       "├───────────────────────────────┼───────────────────────────┼─────────────────┼────────────────────────────┤\n",
       "│ concatenate_1 (<span style=\"color: #0087ff; text-decoration-color: #0087ff\">Concatenate</span>)   │ (<span style=\"color: #00d7ff; text-decoration-color: #00d7ff\">None</span>, <span style=\"color: #00af00; text-decoration-color: #00af00\">37</span>)                │               <span style=\"color: #00af00; text-decoration-color: #00af00\">0</span> │ global_max_pooling1d_1[<span style=\"color: #00af00; text-decoration-color: #00af00\">0</span>]… │\n",
       "│                               │                           │                 │ input_layer_3[<span style=\"color: #00af00; text-decoration-color: #00af00\">0</span>][<span style=\"color: #00af00; text-decoration-color: #00af00\">0</span>]        │\n",
       "├───────────────────────────────┼───────────────────────────┼─────────────────┼────────────────────────────┤\n",
       "│ dense_4 (<span style=\"color: #0087ff; text-decoration-color: #0087ff\">Dense</span>)               │ (<span style=\"color: #00d7ff; text-decoration-color: #00d7ff\">None</span>, <span style=\"color: #00af00; text-decoration-color: #00af00\">128</span>)               │           <span style=\"color: #00af00; text-decoration-color: #00af00\">4,864</span> │ concatenate_1[<span style=\"color: #00af00; text-decoration-color: #00af00\">0</span>][<span style=\"color: #00af00; text-decoration-color: #00af00\">0</span>]        │\n",
       "├───────────────────────────────┼───────────────────────────┼─────────────────┼────────────────────────────┤\n",
       "│ dropout_1 (<span style=\"color: #0087ff; text-decoration-color: #0087ff\">Dropout</span>)           │ (<span style=\"color: #00d7ff; text-decoration-color: #00d7ff\">None</span>, <span style=\"color: #00af00; text-decoration-color: #00af00\">128</span>)               │               <span style=\"color: #00af00; text-decoration-color: #00af00\">0</span> │ dense_4[<span style=\"color: #00af00; text-decoration-color: #00af00\">0</span>][<span style=\"color: #00af00; text-decoration-color: #00af00\">0</span>]              │\n",
       "├───────────────────────────────┼───────────────────────────┼─────────────────┼────────────────────────────┤\n",
       "│ dense_5 (<span style=\"color: #0087ff; text-decoration-color: #0087ff\">Dense</span>)               │ (<span style=\"color: #00d7ff; text-decoration-color: #00d7ff\">None</span>, <span style=\"color: #00af00; text-decoration-color: #00af00\">64</span>)                │           <span style=\"color: #00af00; text-decoration-color: #00af00\">8,256</span> │ dropout_1[<span style=\"color: #00af00; text-decoration-color: #00af00\">0</span>][<span style=\"color: #00af00; text-decoration-color: #00af00\">0</span>]            │\n",
       "├───────────────────────────────┼───────────────────────────┼─────────────────┼────────────────────────────┤\n",
       "│ dense_6 (<span style=\"color: #0087ff; text-decoration-color: #0087ff\">Dense</span>)               │ (<span style=\"color: #00d7ff; text-decoration-color: #00d7ff\">None</span>, <span style=\"color: #00af00; text-decoration-color: #00af00\">32</span>)                │           <span style=\"color: #00af00; text-decoration-color: #00af00\">2,080</span> │ dense_5[<span style=\"color: #00af00; text-decoration-color: #00af00\">0</span>][<span style=\"color: #00af00; text-decoration-color: #00af00\">0</span>]              │\n",
       "├───────────────────────────────┼───────────────────────────┼─────────────────┼────────────────────────────┤\n",
       "│ dense_7 (<span style=\"color: #0087ff; text-decoration-color: #0087ff\">Dense</span>)               │ (<span style=\"color: #00d7ff; text-decoration-color: #00d7ff\">None</span>, <span style=\"color: #00af00; text-decoration-color: #00af00\">3</span>)                 │              <span style=\"color: #00af00; text-decoration-color: #00af00\">99</span> │ dense_6[<span style=\"color: #00af00; text-decoration-color: #00af00\">0</span>][<span style=\"color: #00af00; text-decoration-color: #00af00\">0</span>]              │\n",
       "└───────────────────────────────┴───────────────────────────┴─────────────────┴────────────────────────────┘\n",
       "</pre>\n"
      ],
      "text/plain": [
       "┏━━━━━━━━━━━━━━━━━━━━━━━━━━━━━━━┳━━━━━━━━━━━━━━━━━━━━━━━━━━━┳━━━━━━━━━━━━━━━━━┳━━━━━━━━━━━━━━━━━━━━━━━━━━━━┓\n",
       "┃\u001b[1m \u001b[0m\u001b[1mLayer (type)                 \u001b[0m\u001b[1m \u001b[0m┃\u001b[1m \u001b[0m\u001b[1mOutput Shape             \u001b[0m\u001b[1m \u001b[0m┃\u001b[1m \u001b[0m\u001b[1m        Param #\u001b[0m\u001b[1m \u001b[0m┃\u001b[1m \u001b[0m\u001b[1mConnected to              \u001b[0m\u001b[1m \u001b[0m┃\n",
       "┡━━━━━━━━━━━━━━━━━━━━━━━━━━━━━━━╇━━━━━━━━━━━━━━━━━━━━━━━━━━━╇━━━━━━━━━━━━━━━━━╇━━━━━━━━━━━━━━━━━━━━━━━━━━━━┩\n",
       "│ input_layer_2 (\u001b[38;5;33mInputLayer\u001b[0m)    │ (\u001b[38;5;45mNone\u001b[0m, \u001b[38;5;34m15\u001b[0m)                │               \u001b[38;5;34m0\u001b[0m │ -                          │\n",
       "├───────────────────────────────┼───────────────────────────┼─────────────────┼────────────────────────────┤\n",
       "│ embedding_1 (\u001b[38;5;33mEmbedding\u001b[0m)       │ (\u001b[38;5;45mNone\u001b[0m, \u001b[38;5;34m15\u001b[0m, \u001b[38;5;34m32\u001b[0m)            │           \u001b[38;5;34m1,984\u001b[0m │ input_layer_2[\u001b[38;5;34m0\u001b[0m][\u001b[38;5;34m0\u001b[0m]        │\n",
       "├───────────────────────────────┼───────────────────────────┼─────────────────┼────────────────────────────┤\n",
       "│ conv1d_1 (\u001b[38;5;33mConv1D\u001b[0m)             │ (\u001b[38;5;45mNone\u001b[0m, \u001b[38;5;34m13\u001b[0m, \u001b[38;5;34m64\u001b[0m)            │           \u001b[38;5;34m6,208\u001b[0m │ embedding_1[\u001b[38;5;34m0\u001b[0m][\u001b[38;5;34m0\u001b[0m]          │\n",
       "├───────────────────────────────┼───────────────────────────┼─────────────────┼────────────────────────────┤\n",
       "│ lstm_1 (\u001b[38;5;33mLSTM\u001b[0m)                 │ (\u001b[38;5;45mNone\u001b[0m, \u001b[38;5;34m13\u001b[0m, \u001b[38;5;34m32\u001b[0m)            │          \u001b[38;5;34m12,416\u001b[0m │ conv1d_1[\u001b[38;5;34m0\u001b[0m][\u001b[38;5;34m0\u001b[0m]             │\n",
       "├───────────────────────────────┼───────────────────────────┼─────────────────┼────────────────────────────┤\n",
       "│ global_max_pooling1d_1        │ (\u001b[38;5;45mNone\u001b[0m, \u001b[38;5;34m32\u001b[0m)                │               \u001b[38;5;34m0\u001b[0m │ lstm_1[\u001b[38;5;34m0\u001b[0m][\u001b[38;5;34m0\u001b[0m]               │\n",
       "│ (\u001b[38;5;33mGlobalMaxPooling1D\u001b[0m)          │                           │                 │                            │\n",
       "├───────────────────────────────┼───────────────────────────┼─────────────────┼────────────────────────────┤\n",
       "│ input_layer_3 (\u001b[38;5;33mInputLayer\u001b[0m)    │ (\u001b[38;5;45mNone\u001b[0m, \u001b[38;5;34m5\u001b[0m)                 │               \u001b[38;5;34m0\u001b[0m │ -                          │\n",
       "├───────────────────────────────┼───────────────────────────┼─────────────────┼────────────────────────────┤\n",
       "│ concatenate_1 (\u001b[38;5;33mConcatenate\u001b[0m)   │ (\u001b[38;5;45mNone\u001b[0m, \u001b[38;5;34m37\u001b[0m)                │               \u001b[38;5;34m0\u001b[0m │ global_max_pooling1d_1[\u001b[38;5;34m0\u001b[0m]… │\n",
       "│                               │                           │                 │ input_layer_3[\u001b[38;5;34m0\u001b[0m][\u001b[38;5;34m0\u001b[0m]        │\n",
       "├───────────────────────────────┼───────────────────────────┼─────────────────┼────────────────────────────┤\n",
       "│ dense_4 (\u001b[38;5;33mDense\u001b[0m)               │ (\u001b[38;5;45mNone\u001b[0m, \u001b[38;5;34m128\u001b[0m)               │           \u001b[38;5;34m4,864\u001b[0m │ concatenate_1[\u001b[38;5;34m0\u001b[0m][\u001b[38;5;34m0\u001b[0m]        │\n",
       "├───────────────────────────────┼───────────────────────────┼─────────────────┼────────────────────────────┤\n",
       "│ dropout_1 (\u001b[38;5;33mDropout\u001b[0m)           │ (\u001b[38;5;45mNone\u001b[0m, \u001b[38;5;34m128\u001b[0m)               │               \u001b[38;5;34m0\u001b[0m │ dense_4[\u001b[38;5;34m0\u001b[0m][\u001b[38;5;34m0\u001b[0m]              │\n",
       "├───────────────────────────────┼───────────────────────────┼─────────────────┼────────────────────────────┤\n",
       "│ dense_5 (\u001b[38;5;33mDense\u001b[0m)               │ (\u001b[38;5;45mNone\u001b[0m, \u001b[38;5;34m64\u001b[0m)                │           \u001b[38;5;34m8,256\u001b[0m │ dropout_1[\u001b[38;5;34m0\u001b[0m][\u001b[38;5;34m0\u001b[0m]            │\n",
       "├───────────────────────────────┼───────────────────────────┼─────────────────┼────────────────────────────┤\n",
       "│ dense_6 (\u001b[38;5;33mDense\u001b[0m)               │ (\u001b[38;5;45mNone\u001b[0m, \u001b[38;5;34m32\u001b[0m)                │           \u001b[38;5;34m2,080\u001b[0m │ dense_5[\u001b[38;5;34m0\u001b[0m][\u001b[38;5;34m0\u001b[0m]              │\n",
       "├───────────────────────────────┼───────────────────────────┼─────────────────┼────────────────────────────┤\n",
       "│ dense_7 (\u001b[38;5;33mDense\u001b[0m)               │ (\u001b[38;5;45mNone\u001b[0m, \u001b[38;5;34m3\u001b[0m)                 │              \u001b[38;5;34m99\u001b[0m │ dense_6[\u001b[38;5;34m0\u001b[0m][\u001b[38;5;34m0\u001b[0m]              │\n",
       "└───────────────────────────────┴───────────────────────────┴─────────────────┴────────────────────────────┘\n"
      ]
     },
     "metadata": {},
     "output_type": "display_data"
    },
    {
     "data": {
      "text/html": [
       "<pre style=\"white-space:pre;overflow-x:auto;line-height:normal;font-family:Menlo,'DejaVu Sans Mono',consolas,'Courier New',monospace\"><span style=\"font-weight: bold\"> Total params: </span><span style=\"color: #00af00; text-decoration-color: #00af00\">35,907</span> (140.26 KB)\n",
       "</pre>\n"
      ],
      "text/plain": [
       "\u001b[1m Total params: \u001b[0m\u001b[38;5;34m35,907\u001b[0m (140.26 KB)\n"
      ]
     },
     "metadata": {},
     "output_type": "display_data"
    },
    {
     "data": {
      "text/html": [
       "<pre style=\"white-space:pre;overflow-x:auto;line-height:normal;font-family:Menlo,'DejaVu Sans Mono',consolas,'Courier New',monospace\"><span style=\"font-weight: bold\"> Trainable params: </span><span style=\"color: #00af00; text-decoration-color: #00af00\">35,907</span> (140.26 KB)\n",
       "</pre>\n"
      ],
      "text/plain": [
       "\u001b[1m Trainable params: \u001b[0m\u001b[38;5;34m35,907\u001b[0m (140.26 KB)\n"
      ]
     },
     "metadata": {},
     "output_type": "display_data"
    },
    {
     "data": {
      "text/html": [
       "<pre style=\"white-space:pre;overflow-x:auto;line-height:normal;font-family:Menlo,'DejaVu Sans Mono',consolas,'Courier New',monospace\"><span style=\"font-weight: bold\"> Non-trainable params: </span><span style=\"color: #00af00; text-decoration-color: #00af00\">0</span> (0.00 B)\n",
       "</pre>\n"
      ],
      "text/plain": [
       "\u001b[1m Non-trainable params: \u001b[0m\u001b[38;5;34m0\u001b[0m (0.00 B)\n"
      ]
     },
     "metadata": {},
     "output_type": "display_data"
    },
    {
     "name": "stdout",
     "output_type": "stream",
     "text": [
      "None\n"
     ]
    }
   ],
   "source": [
    "# Cell 7 - Compile Model\n",
    "def compile_model(model):\n",
    "    \"\"\"Compile the model\"\"\"\n",
    "    model.compile(\n",
    "        optimizer='adam',\n",
    "        loss='sparse_categorical_crossentropy',\n",
    "        metrics=['accuracy']\n",
    "    )\n",
    "    print(model.summary())\n",
    "\n",
    "compile_model(model)\n"
   ]
  },
  {
   "cell_type": "code",
   "execution_count": 75,
   "metadata": {
    "colab": {
     "base_uri": "https://localhost:8080/"
    },
    "id": "2D8jlf_8-Pvy",
    "outputId": "2d2f333d-9517-48be-e841-dd60e37527a8"
   },
   "outputs": [
    {
     "name": "stdout",
     "output_type": "stream",
     "text": [
      "Epoch 1/50\n"
     ]
    },
    {
     "name": "stderr",
     "output_type": "stream",
     "text": [
      "C:\\Users\\ASUS\\Documents\\DATA\\python files\\Lib\\site-packages\\keras\\src\\models\\functional.py:225: UserWarning: The structure of `inputs` doesn't match the expected structure: ['keras_tensor_12', 'keras_tensor_13']. Received: the structure of inputs=('*', '*')\n",
      "  warnings.warn(\n"
     ]
    },
    {
     "name": "stdout",
     "output_type": "stream",
     "text": [
      "\u001b[1m577/577\u001b[0m \u001b[32m━━━━━━━━━━━━━━━━━━━━\u001b[0m\u001b[37m\u001b[0m \u001b[1m17s\u001b[0m 17ms/step - accuracy: 0.6263 - loss: 0.7926 - val_accuracy: 0.8846 - val_loss: 0.2655\n",
      "Epoch 2/50\n",
      "\u001b[1m577/577\u001b[0m \u001b[32m━━━━━━━━━━━━━━━━━━━━\u001b[0m\u001b[37m\u001b[0m \u001b[1m8s\u001b[0m 14ms/step - accuracy: 0.8981 - loss: 0.2522 - val_accuracy: 0.9389 - val_loss: 0.1579\n",
      "Epoch 3/50\n",
      "\u001b[1m577/577\u001b[0m \u001b[32m━━━━━━━━━━━━━━━━━━━━\u001b[0m\u001b[37m\u001b[0m \u001b[1m8s\u001b[0m 14ms/step - accuracy: 0.9282 - loss: 0.1777 - val_accuracy: 0.9434 - val_loss: 0.1381\n",
      "Epoch 4/50\n",
      "\u001b[1m577/577\u001b[0m \u001b[32m━━━━━━━━━━━━━━━━━━━━\u001b[0m\u001b[37m\u001b[0m \u001b[1m8s\u001b[0m 14ms/step - accuracy: 0.9394 - loss: 0.1504 - val_accuracy: 0.9456 - val_loss: 0.1398\n",
      "Epoch 5/50\n",
      "\u001b[1m577/577\u001b[0m \u001b[32m━━━━━━━━━━━━━━━━━━━━\u001b[0m\u001b[37m\u001b[0m \u001b[1m8s\u001b[0m 14ms/step - accuracy: 0.9518 - loss: 0.1209 - val_accuracy: 0.9603 - val_loss: 0.1054\n",
      "Epoch 6/50\n",
      "\u001b[1m577/577\u001b[0m \u001b[32m━━━━━━━━━━━━━━━━━━━━\u001b[0m\u001b[37m\u001b[0m \u001b[1m8s\u001b[0m 14ms/step - accuracy: 0.9543 - loss: 0.1171 - val_accuracy: 0.9536 - val_loss: 0.1053\n",
      "Epoch 7/50\n",
      "\u001b[1m577/577\u001b[0m \u001b[32m━━━━━━━━━━━━━━━━━━━━\u001b[0m\u001b[37m\u001b[0m \u001b[1m8s\u001b[0m 14ms/step - accuracy: 0.9568 - loss: 0.0985 - val_accuracy: 0.9642 - val_loss: 0.0813\n",
      "Epoch 8/50\n",
      "\u001b[1m577/577\u001b[0m \u001b[32m━━━━━━━━━━━━━━━━━━━━\u001b[0m\u001b[37m\u001b[0m \u001b[1m8s\u001b[0m 14ms/step - accuracy: 0.9654 - loss: 0.0835 - val_accuracy: 0.9653 - val_loss: 0.0790\n",
      "Epoch 9/50\n",
      "\u001b[1m577/577\u001b[0m \u001b[32m━━━━━━━━━━━━━━━━━━━━\u001b[0m\u001b[37m\u001b[0m \u001b[1m9s\u001b[0m 15ms/step - accuracy: 0.9688 - loss: 0.0742 - val_accuracy: 0.9670 - val_loss: 0.0763\n",
      "Epoch 10/50\n",
      "\u001b[1m577/577\u001b[0m \u001b[32m━━━━━━━━━━━━━━━━━━━━\u001b[0m\u001b[37m\u001b[0m \u001b[1m9s\u001b[0m 15ms/step - accuracy: 0.9703 - loss: 0.0697 - val_accuracy: 0.9683 - val_loss: 0.0766\n",
      "Epoch 11/50\n",
      "\u001b[1m577/577\u001b[0m \u001b[32m━━━━━━━━━━━━━━━━━━━━\u001b[0m\u001b[37m\u001b[0m \u001b[1m8s\u001b[0m 14ms/step - accuracy: 0.9695 - loss: 0.0694 - val_accuracy: 0.9703 - val_loss: 0.0680\n",
      "Epoch 12/50\n",
      "\u001b[1m577/577\u001b[0m \u001b[32m━━━━━━━━━━━━━━━━━━━━\u001b[0m\u001b[37m\u001b[0m \u001b[1m8s\u001b[0m 14ms/step - accuracy: 0.9746 - loss: 0.0632 - val_accuracy: 0.9709 - val_loss: 0.0695\n",
      "Epoch 13/50\n",
      "\u001b[1m577/577\u001b[0m \u001b[32m━━━━━━━━━━━━━━━━━━━━\u001b[0m\u001b[37m\u001b[0m \u001b[1m8s\u001b[0m 14ms/step - accuracy: 0.9738 - loss: 0.0626 - val_accuracy: 0.9668 - val_loss: 0.0740\n",
      "Epoch 14/50\n",
      "\u001b[1m577/577\u001b[0m \u001b[32m━━━━━━━━━━━━━━━━━━━━\u001b[0m\u001b[37m\u001b[0m \u001b[1m8s\u001b[0m 14ms/step - accuracy: 0.9742 - loss: 0.0603 - val_accuracy: 0.9696 - val_loss: 0.0720\n",
      "Epoch 15/50\n",
      "\u001b[1m577/577\u001b[0m \u001b[32m━━━━━━━━━━━━━━━━━━━━\u001b[0m\u001b[37m\u001b[0m \u001b[1m8s\u001b[0m 14ms/step - accuracy: 0.9737 - loss: 0.0584 - val_accuracy: 0.9688 - val_loss: 0.0691\n",
      "Epoch 16/50\n",
      "\u001b[1m577/577\u001b[0m \u001b[32m━━━━━━━━━━━━━━━━━━━━\u001b[0m\u001b[37m\u001b[0m \u001b[1m8s\u001b[0m 14ms/step - accuracy: 0.9724 - loss: 0.0601 - val_accuracy: 0.9705 - val_loss: 0.0686\n"
     ]
    }
   ],
   "source": [
    "# Cell 8 - Train Model\n",
    "def train_model(model, X_seq_train, X_feat_train, y_train, X_seq_val, X_feat_val, y_val, epochs=50, batch_size=32):\n",
    "    \"\"\"Train the model\"\"\"\n",
    "    early_stopping = tf.keras.callbacks.EarlyStopping(\n",
    "        monitor='val_loss',\n",
    "        patience=5,\n",
    "        restore_best_weights=True\n",
    "    )\n",
    "\n",
    "    history = model.fit(\n",
    "        [X_seq_train, X_feat_train],\n",
    "        y_train,\n",
    "        epochs=epochs,\n",
    "        batch_size=batch_size,\n",
    "        validation_data=([X_seq_val, X_feat_val], y_val),\n",
    "        callbacks=[early_stopping]\n",
    "    )\n",
    "\n",
    "    return history\n",
    "\n",
    "history = train_model(model, X_seq_train, X_feat_train, y_train, X_seq_val, X_feat_val, y_val)\n"
   ]
  },
  {
   "cell_type": "code",
   "execution_count": 76,
   "metadata": {
    "colab": {
     "base_uri": "https://localhost:8080/",
     "height": 326
    },
    "id": "kwgJDAFm-hwt",
    "outputId": "17c43f38-f007-4274-bf7b-33d483a9ac0c"
   },
   "outputs": [
    {
     "data": {
      "image/png": "[encoded data removed]",
      "text/plain": [
       "<Figure size 1200x400 with 2 Axes>"
      ]
     },
     "metadata": {},
     "output_type": "display_data"
    }
   ],
   "source": [
    "# Cell 9 - Plot Training History\n",
    "def plot_training_history(history):\n",
    "    \"\"\"Plot training history\"\"\"\n",
    "    plt.figure(figsize=(12, 4))\n",
    "\n",
    "    plt.subplot(1, 2, 1)\n",
    "    plt.plot(history.history['loss'], label='Training Loss')\n",
    "    plt.plot(history.history['val_loss'], label='Validation Loss')\n",
    "    plt.title('Model Loss')\n",
    "    plt.xlabel('Epoch')\n",
    "    plt.ylabel('Loss')\n",
    "    plt.legend()\n",
    "\n",
    "    plt.subplot(1, 2, 2)\n",
    "    plt.plot(history.history['accuracy'], label='Training Accuracy')\n",
    "    plt.plot(history.history['val_accuracy'], label='Validation Accuracy')\n",
    "    plt.title('Model Accuracy')\n",
    "    plt.xlabel('Epoch')\n",
    "    plt.ylabel('Accuracy')\n",
    "    plt.legend()\n",
    "\n",
    "    plt.tight_layout()\n",
    "    plt.show()\n",
    "\n",
    "plot_training_history(history)\n"
   ]
  },
  {
   "cell_type": "code",
   "execution_count": 77,
   "metadata": {
    "colab": {
     "base_uri": "https://localhost:8080/"
    },
    "id": "na2KfyY7-pNQ",
    "outputId": "bbf6e9d8-fcc1-4406-bafa-4e1b45c74c52"
   },
   "outputs": [
    {
     "name": "stdout",
     "output_type": "stream",
     "text": [
      "\u001b[1m181/181\u001b[0m \u001b[32m━━━━━━━━━━━━━━━━━━━━\u001b[0m\u001b[37m\u001b[0m \u001b[1m1s\u001b[0m 6ms/step - accuracy: 0.9743 - loss: 0.0645\n",
      "\n",
      "Test accuracy: 0.9696\n"
     ]
    }
   ],
   "source": [
    "# Evaluate Model\n",
    "def evaluate_model(model, X_seq_test, X_feat_test, y_test):\n",
    "    \"\"\"Evaluate model performance\"\"\"\n",
    "    test_loss, test_accuracy = model.evaluate([X_seq_test, X_feat_test], y_test)\n",
    "    print(f\"\\nTest accuracy: {test_accuracy:.4f}\")\n",
    "    return test_loss, test_accuracy\n",
    "\n",
    "test_loss, test_accuracy = evaluate_model(model, X_seq_test, X_feat_test, y_test)\n"
   ]
  },
  {
   "cell_type": "code",
   "execution_count": 78,
   "metadata": {
    "colab": {
     "base_uri": "https://localhost:8080/"
    },
    "id": "Og8k7ALe-vW3",
    "outputId": "8b3c900e-8f65-4753-93fc-b2ca5de73b6b"
   },
   "outputs": [
    {
     "name": "stdout",
     "output_type": "stream",
     "text": [
      "\u001b[1m1/1\u001b[0m \u001b[32m━━━━━━━━━━━━━━━━━━━━\u001b[0m\u001b[37m\u001b[0m \u001b[1m1s\u001b[0m 640ms/step\n",
      "\n",
      "Password: udin\n",
      "Strength: lemah\n",
      "Confidence: 100.00%\n",
      "\u001b[1m1/1\u001b[0m \u001b[32m━━━━━━━━━━━━━━━━━━━━\u001b[0m\u001b[37m\u001b[0m \u001b[1m0s\u001b[0m 70ms/step\n",
      "\n",
      "Password: P@ssw0r#$%&*)$\n",
      "Strength: kuat\n",
      "Confidence: 100.00%\n",
      "\u001b[1m1/1\u001b[0m \u001b[32m━━━━━━━━━━━━━━━━━━━━\u001b[0m\u001b[37m\u001b[0m \u001b[1m0s\u001b[0m 66ms/step\n",
      "\n",
      "Password: Str0ng!P@ssw0r#$%&*)$$%d123\n",
      "Strength: kuat\n",
      "Confidence: 100.00%\n"
     ]
    }
   ],
   "source": [
    "# Predict Password Strength\n",
    "\n",
    "def predict_password(model, password, tokenizer, max_length):\n",
    "    \"\"\"Predict the strength of a single password\"\"\"\n",
    "    # Preprocess\n",
    "    sequence = tokenizer.texts_to_sequences([password])\n",
    "    padded_sequence = pad_sequences(sequence, maxlen=max_length)\n",
    "\n",
    "    # Extract features\n",
    "    features = np.array([[len(password),\n",
    "        sum(c.isupper() for c in password),\n",
    "        sum(c.islower() for c in password),\n",
    "        sum(c.isdigit() for c in password),\n",
    "        sum(not c.isalnum() for c in password)\n",
    "    ]])\n",
    "\n",
    "    # Predict password strength\n",
    "    prediction = model.predict([padded_sequence, features])\n",
    "    strength_idx = np.argmax(prediction[0])\n",
    "    confidence = float(np.max(prediction[0]))\n",
    "\n",
    "    # Convert numerical strength index to descriptive label\n",
    "    strength_labels = {0: \"lemah\", 1: \"sedang\", 2: \"kuat\"}\n",
    "    strength = strength_labels.get(strength_idx, \"Tidak diketahui\")\n",
    "\n",
    "\n",
    "   \n",
    "\n",
    "    return strength, confidence\n",
    "\n",
    "# Test with new passwords\n",
    "test_passwords = [\"udin\", \"P@ssw0r#$%&*)$\", \"Str0ng!P@ssw0r#$%&*)$$%d123\"]\n",
    "for password in test_passwords:\n",
    "    strength, confidence = predict_password(model, password, tokenizer, max_length)\n",
    "    print(f\"\\nPassword: {password}\")\n",
    "    print(f\"Strength: {strength}\")\n",
    "    print(f\"Confidence: {confidence:.2%}\")\n",
    "\n"
   ]
  },
  {
   "cell_type": "code",
   "execution_count": 82,
   "metadata": {
    "colab": {
     "base_uri": "https://localhost:8080/",
     "height": 564
    },
    "id": "4cF381Y5WrGX",
    "outputId": "80d5cab1-0bef-4b9d-f91c-dbfeb6113470"
   },
   "outputs": [
    {
     "name": "stdin",
     "output_type": "stream",
     "text": [
      "Masukkan kata sandi (atau ketik 'exit' untuk keluar):  ikan\n"
     ]
    },
    {
     "name": "stdout",
     "output_type": "stream",
     "text": [
      "\u001b[1m1/1\u001b[0m \u001b[32m━━━━━━━━━━━━━━━━━━━━\u001b[0m\u001b[37m\u001b[0m \u001b[1m0s\u001b[0m 59ms/step\n",
      "\n",
      "Password: ikan\n",
      "Strength: lemah\n",
      "Confidence: 99.99%\n"
     ]
    },
    {
     "name": "stdin",
     "output_type": "stream",
     "text": [
      "Masukkan kata sandi (atau ketik 'exit' untuk keluar):  ikanudang\n"
     ]
    },
    {
     "name": "stdout",
     "output_type": "stream",
     "text": [
      "\u001b[1m1/1\u001b[0m \u001b[32m━━━━━━━━━━━━━━━━━━━━\u001b[0m\u001b[37m\u001b[0m \u001b[1m0s\u001b[0m 50ms/step\n",
      "\n",
      "Password: ikanudang\n",
      "Strength: sedang\n",
      "Confidence: 70.32%\n"
     ]
    },
    {
     "name": "stdin",
     "output_type": "stream",
     "text": [
      "Masukkan kata sandi (atau ketik 'exit' untuk keluar):  udangbatu*!&@&!*\n"
     ]
    },
    {
     "name": "stdout",
     "output_type": "stream",
     "text": [
      "\u001b[1m1/1\u001b[0m \u001b[32m━━━━━━━━━━━━━━━━━━━━\u001b[0m\u001b[37m\u001b[0m \u001b[1m0s\u001b[0m 79ms/step\n",
      "\n",
      "Password: udangbatu*!&@&!*\n",
      "Strength: kuat\n",
      "Confidence: 100.00%\n"
     ]
    },
    {
     "name": "stdin",
     "output_type": "stream",
     "text": [
      "Masukkan kata sandi (atau ketik 'exit' untuk keluar):  exit\n"
     ]
    },
    {
     "name": "stdout",
     "output_type": "stream",
     "text": [
      "Program selesai.\n"
     ]
    }
   ],
   "source": [
    "# Cell 11 - Predict Password Strength\n",
    "def predict_password(model, password, tokenizer, max_length):\n",
    "    \"\"\"Predict the strength of a single password\"\"\"\n",
    "    # Preprocess\n",
    "    sequence = tokenizer.texts_to_sequences([password])\n",
    "    padded_sequence = pad_sequences(sequence, maxlen=max_length)\n",
    "\n",
    "    # Extract features\n",
    "    features = np.array([[len(password),\n",
    "        sum(c.isupper() for c in password),\n",
    "        sum(c.islower() for c in password),\n",
    "        sum(c.isdigit() for c in password),\n",
    "        sum(not c.isalnum() for c in password)\n",
    "    ]])\n",
    "\n",
    "    # Predict password strength\n",
    "    prediction = model.predict([padded_sequence, features])\n",
    "    strength_idx = np.argmax(prediction[0])\n",
    "    confidence = float(np.max(prediction[0]))\n",
    "\n",
    "    # Convert numerical strength index to descriptive label\n",
    "    strength_labels = {0: \"lemah\", 1: \"sedang\", 2: \"kuat\"}\n",
    "    strength = strength_labels.get(strength_idx, \"Tidak diketahui\")\n",
    "\n",
    "    return strength, confidence\n",
    "\n",
    "\n",
    "while True:\n",
    "    password = input(\"Masukkan kata sandi (atau ketik 'exit' untuk keluar): \")\n",
    "    if password.lower() == 'exit':\n",
    "        print(\"Program selesai.\")\n",
    "        break\n",
    "\n",
    "    strength, confidence = predict_password(model, password, tokenizer, max_length)\n",
    "    print(f\"\\nPassword: {password}\")\n",
    "    print(f\"Strength: {strength}\")\n",
    "    print(f\"Confidence: {confidence:.2%}\")\n"
   ]
  },
  {
   "cell_type": "code",
   "execution_count": null,
   "metadata": {},
   "outputs": [],
   "source": []
  }
 ],
 "metadata": {
  "colab": {
   "provenance": []
  },
  "kernelspec": {
   "display_name": "Python 3 (ipykernel)",
   "language": "python",
   "name": "python3"
  },
  "language_info": {
   "codemirror_mode": {
    "name": "ipython",
    "version": 3
   },
   "file_extension": ".py",
   "mimetype": "text/x-python",
   "name": "python",
   "nbconvert_exporter": "python",
   "pygments_lexer": "ipython3",
   "version": "3.11.5"
  }
 },
 "nbformat": 4,
 "nbformat_minor": 4
}
